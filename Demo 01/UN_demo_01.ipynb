{
 "cells": [
  {
   "cell_type": "code",
   "execution_count": 11,
   "metadata": {},
   "outputs": [],
   "source": [
    "#Load libraries:\n",
    "import pandas as pd\n",
    "import matplotlib.pyplot as plt\n",
    "import os\n",
    "import sys"
   ]
  },
  {
   "cell_type": "code",
   "execution_count": 16,
   "metadata": {},
   "outputs": [
    {
     "name": "stdout",
     "output_type": "stream",
     "text": [
      "             Paper_wosId  Paper_publicationYear  \\\n",
      "0    WOS:000253974300009                   2007   \n",
      "1    WOS:000253974300001                   2007   \n",
      "2    WOS:000260903700004                   2008   \n",
      "3    WOS:000257767400004                   2008   \n",
      "4    WOS:000260903700013                   2008   \n",
      "..                   ...                    ...   \n",
      "950  WOS:000484051000014                   2019   \n",
      "951  WOS:000460550800012                   2019   \n",
      "952  WOS:000460550800020                   2019   \n",
      "953  WOS:000469932800014                   2019   \n",
      "954  WOS:000501871000011                   2019   \n",
      "\n",
      "                                 Paper_authorFullNames  \\\n",
      "0    odriguez, Marko A. (1)| Bollen, Johan (2)| de ...   \n",
      "1                                       Egghe, Leo (1)   \n",
      "2                Ye, Fred Y. (1)| Rousseau, Ronald (2)   \n",
      "3                Liu, Yuxian (1)| Rousseau, Ronald (2)   \n",
      "4             Waltman, Ludo (1)| van Eck, Nees Jan (2)   \n",
      "..                                                 ...   \n",
      "950                               Rousseau, Ronald (1)   \n",
      "951                                 Bornmann, Lutz (1)   \n",
      "952    Bertoli-Barsotti, Lucio (1)| Lando, Tommaso (2)   \n",
      "953         Mutz, Rudiger (1)| Daniel, Hans-Dieter (2)   \n",
      "954  Shuo (1)| Hao, Liyuan (2)| An, Xin (3)| Yang, ...   \n",
      "\n",
      "           Paper_sourceTitle  \\\n",
      "0    JOURNAL OF INFORMETRICS   \n",
      "1    JOURNAL OF INFORMETRICS   \n",
      "2    JOURNAL OF INFORMETRICS   \n",
      "3    JOURNAL OF INFORMETRICS   \n",
      "4    JOURNAL OF INFORMETRICS   \n",
      "..                       ...   \n",
      "950  JOURNAL OF INFORMETRICS   \n",
      "951  JOURNAL OF INFORMETRICS   \n",
      "952  JOURNAL OF INFORMETRICS   \n",
      "953  JOURNAL OF INFORMETRICS   \n",
      "954  JOURNAL OF INFORMETRICS   \n",
      "\n",
      "                                    Paper_articleTitle  isQueryPaper  \n",
      "0      Mapping the bid behavior of conference referees          True  \n",
      "1               Welcome to the journal of informetrics          True  \n",
      "2    The power law model and total career h-index s...          True  \n",
      "3    Definitions of time series in citation analysi...          True  \n",
      "4    Some comments on the journal weighted impact f...          True  \n",
      "..                                                 ...           ...  \n",
      "950  On the Leydesdorff-Wagner-Bornmann proposal fo...          True  \n",
      "951  Does the normalized citation impact of univers...          True  \n",
      "952  How mean rank and mean size may determine the ...          True  \n",
      "953  How to consider fractional counting and field ...          True  \n",
      "954  Emerging research topics detection with multip...          True  \n",
      "\n",
      "[955 rows x 6 columns]\n"
     ]
    }
   ],
   "source": [
    "j_of_inf = pd.read_csv(\"/home/jovyan/query-results/UIUI_WOS_afbce36d-6eca-4868-a83e-a213350ee54e.csv\", header = 0)\n",
    "\n",
    "j_of_inf.columns = j_of_inf.columns.str.strip()\n",
    "\n",
    "print(j_of_inf)"
   ]
  },
  {
   "cell_type": "code",
   "execution_count": 17,
   "metadata": {},
   "outputs": [
    {
     "name": "stdout",
     "output_type": "stream",
     "text": [
      "Paper_publicationYear\n",
      "2008     34\n",
      "2009     36\n",
      "2010     65\n",
      "2011     67\n",
      "2012     75\n",
      "2013    101\n",
      "2014     90\n",
      "2015     75\n",
      "2016    104\n",
      "2017    102\n",
      "2018     94\n",
      "Name: Paper_articleTitle, dtype: int64\n"
     ]
    }
   ],
   "source": [
    "if 'Paper_year' in j_of_inf.columns:\n",
    "    inf = j_of_inf.groupby(['Paper_year']).count()\n",
    "else:\n",
    "    inf = j_of_inf.groupby(['Paper_publicationYear']).count()\n",
    "\n",
    "if 'Paper_originalTitle' in j_of_inf.columns:\n",
    "    inf2 = inf['Paper_originalTitle']\n",
    "else:\n",
    "    inf2 = inf['Paper_articleTitle']\n",
    "\n",
    "inf2 = inf2[1:-1]\n",
    "\n",
    "inf2.columns=[\"Year\",\"Total\"]\n",
    "\n",
    "print(inf2)"
   ]
  },
  {
   "cell_type": "code",
   "execution_count": 18,
   "metadata": {},
   "outputs": [
    {
     "data": {
      "image/png": "[encoded data removed]",
      "text/plain": [
       "<Figure size 432x288 with 1 Axes>"
      ]
     },
     "metadata": {
      "needs_background": "light"
     },
     "output_type": "display_data"
    }
   ],
   "source": [
    "#Create plot:\n",
    "inf2.plot(x='Year', y=['Total'], color=['blue'], kind='line')\n",
    "inf_plot = plt.legend(loc = 2)\n",
    "inf_plot = plt.ylabel(ylabel='No. of Publications')\n",
    "inf_plot = plt.title(label = 'Sum of Total Articles')\n",
    "\n",
    "plt.show(inf_plot)\n"
   ]
  },
  {
   "cell_type": "code",
   "execution_count": 19,
   "metadata": {},
   "outputs": [],
   "source": [
    "inf_plot.figure.savefig('articles_count.png')"
   ]
  }
 ],
 "metadata": {
  "kernelspec": {
   "display_name": "Python 3",
   "language": "python",
   "name": "python3"
  },
  "language_info": {
   "codemirror_mode": {
    "name": "ipython",
    "version": 3
   },
   "file_extension": ".py",
   "mimetype": "text/x-python",
   "name": "python",
   "nbconvert_exporter": "python",
   "pygments_lexer": "ipython3",
   "version": "3.7.4"
  }
 },
 "nbformat": 4,
 "nbformat_minor": 4
}
