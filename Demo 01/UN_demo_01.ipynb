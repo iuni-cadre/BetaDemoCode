{
 "cells": [
  {
   "cell_type": "code",
   "execution_count": null,
   "metadata": {},
   "outputs": [],
   "source": [
    "#Load libraries:\n",
    "import pandas as pd\n",
    "import matplotlib.pyplot as plt\n",
    "import os\n",
    "import sys"
   ]
  },
  {
   "cell_type": "code",
   "execution_count": null,
   "metadata": {},
   "outputs": [],
   "source": [
    "j_of_inf = pd.read_csv(\"/home/jovyan/query-results/\", header = 0)\n",
    "\n",
    "j_of_inf.columns = j_of_inf.columns.str.strip()\n",
    "\n",
    "print(j_of_inf)"
   ]
  },
  {
   "cell_type": "code",
   "execution_count": null,
   "metadata": {},
   "outputs": [],
   "source": [
    "inf = j_of_inf.groupby(['Paper_year']).count()\n",
    "\n",
    "inf2 = inf['Paper_paperTitle']\n",
    "\n",
    "inf2 = inf2[1:-1]\n",
    "\n",
    "inf2.columns=[\"Year\",\"Total\"]\n",
    "\n",
    "print(inf2)"
   ]
  },
  {
   "cell_type": "code",
   "execution_count": null,
   "metadata": {},
   "outputs": [],
   "source": [
    "#Create plot:\n",
    "inf2.plot(x='Year', y=['Total'], color=['blue'], kind='line')\n",
    "inf_plot = plt.legend(loc = 2)\n",
    "inf_plot = plt.ylabel(ylabel='No. of Publications')\n",
    "inf_plot = plt.title(label = 'Sum of Total Articles')\n",
    "\n",
    "plt.show(inf_plot)\n"
   ]
  },
  {
   "cell_type": "code",
   "execution_count": null,
   "metadata": {},
   "outputs": [],
   "source": [
    "inf_plot.figure.savefig('articles_count.png')"
   ]
  }
 ],
 "metadata": {
  "kernelspec": {
   "display_name": "Python 3",
   "language": "python",
   "name": "python3"
  },
  "language_info": {
   "codemirror_mode": {
    "name": "ipython",
    "version": 3
   },
   "file_extension": ".py",
   "mimetype": "text/x-python",
   "name": "python",
   "nbconvert_exporter": "python",
   "pygments_lexer": "ipython3",
   "version": "3.7.4"
  }
 },
 "nbformat": 4,
 "nbformat_minor": 4
}
