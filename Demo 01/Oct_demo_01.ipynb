{
 "cells": [
  {
   "cell_type": "code",
   "execution_count": 1,
   "metadata": {},
   "outputs": [],
   "source": [
    "#Load libraries:\n",
    "import pandas as pd\n",
    "import matplotlib.pyplot as plt\n",
    "import os\n",
    "import sys"
   ]
  },
  {
   "cell_type": "code",
   "execution_count": 7,
   "metadata": {},
   "outputs": [
    {
     "name": "stdout",
     "output_type": "stream",
     "text": [
      "      Paper_paperId  Paper_year  \\\n",
      "0        2163354434        2011   \n",
      "1        2537761553        2016   \n",
      "2        2995611129        2020   \n",
      "3        2086202982        2013   \n",
      "4        2964054951        2012   \n",
      "...             ...         ...   \n",
      "1000     2906913315        2019   \n",
      "1001     2018399266        2013   \n",
      "1002     2136804657        2014   \n",
      "1003      767067438        2016   \n",
      "1004     2070212390        2011   \n",
      "\n",
      "                                    Paper_originalTitle  \\\n",
      "0     Approaches to understanding and measuring inte...   \n",
      "1     Sampling issues in bibliometric analysis: Resp...   \n",
      "2     Measuring similarity for clarifying layer diff...   \n",
      "3                                          The h-bubble   \n",
      "4     A sensitivity analysis of researchers’ product...   \n",
      "...                                                 ...   \n",
      "1000  Measuring the knowledge translation and conver...   \n",
      "1001  Ratios of h-cores, h-tails and uncited sources...   \n",
      "1002       The Matthew effect in economics reconsidered   \n",
      "1003  A review of the literature on citation impact ...   \n",
      "1004  Error and attack tolerance of small-worldness ...   \n",
      "\n",
      "                                     Author_displayName  \\\n",
      "0     [Kevin W. Boyack, Ismael Rafols, Kamau Bobb, K...   \n",
      "1                     [Lutz Bornmann, Richard Williams]   \n",
      "2                          [Ronda J. Zhang, Fred Y. Ye]   \n",
      "3     [Elías Sanz-Casado, Carlos García-Zorita, Rona...   \n",
      "4        [Giovanni Abramo, Ca D'Angelo, Tindaro Cicero]   \n",
      "...                                                 ...   \n",
      "1000    [Peixin Li, Jian Du, Qianying Guo, Xiaoli Tang]   \n",
      "1001  [Ronald Rousseau, Fred Y. Ye, Joan Q. Liu, Mon...   \n",
      "1002                 [Klaus Wohlrabe, Daniel Birkmaier]   \n",
      "1003                                     [Ludo Waltman]   \n",
      "1004                                     [Mahdi Jalili]   \n",
      "\n",
      "       JournalFixed_displayName  \n",
      "0     [Journal of Informetrics]  \n",
      "1     [Journal of Informetrics]  \n",
      "2     [Journal of Informetrics]  \n",
      "3     [Journal of Informetrics]  \n",
      "4     [Journal of Informetrics]  \n",
      "...                         ...  \n",
      "1000  [Journal of Informetrics]  \n",
      "1001  [Journal of Informetrics]  \n",
      "1002  [Journal of Informetrics]  \n",
      "1003  [Journal of Informetrics]  \n",
      "1004  [Journal of Informetrics]  \n",
      "\n",
      "[1005 rows x 5 columns]\n"
     ]
    }
   ],
   "source": [
    "j_of_inf = pd.read_csv(\"/home/jovyan/query-results/\", header = 0)\n",
    "\n",
    "print(j_of_inf)"
   ]
  },
  {
   "cell_type": "code",
   "execution_count": 8,
   "metadata": {},
   "outputs": [],
   "source": [
    "order = [1,0] \n",
    "inf_yd = j_of_inf[[j_of_inf.columns[i] for i in order]]"
   ]
  },
  {
   "cell_type": "code",
   "execution_count": 10,
   "metadata": {},
   "outputs": [
    {
     "name": "stdout",
     "output_type": "stream",
     "text": [
      "    Year  Total\n",
      "1   2008     35\n",
      "2   2009     36\n",
      "3   2010     69\n",
      "4   2011     67\n",
      "5   2012     78\n",
      "6   2013    102\n",
      "7   2014     87\n",
      "8   2015     83\n",
      "9   2016    104\n",
      "10  2017    110\n",
      "11  2018     95\n",
      "12  2019     81\n"
     ]
    }
   ],
   "source": [
    "inf =inf_yd.groupby(['Paper_year']).count()\n",
    "\n",
    "inf.reset_index(inplace=True)\n",
    "\n",
    "inf = inf.sort_values('Paper_year')\n",
    "\n",
    "inf = inf[1:-1]\n",
    "\n",
    "inf.columns=[\"Year\",\"Total\"]\n",
    "\n",
    "print(inf)"
   ]
  },
  {
   "cell_type": "code",
   "execution_count": 11,
   "metadata": {},
   "outputs": [
    {
     "data": {
      "image/png": "[encoded data removed]",
      "text/plain": [
       "<Figure size 432x288 with 1 Axes>"
      ]
     },
     "metadata": {
      "needs_background": "light"
     },
     "output_type": "display_data"
    }
   ],
   "source": [
    "#Create plot:\n",
    "inf.plot(x='Year', y=['Total'], color=['blue'], kind='line')\n",
    "inf_plot = plt.legend(loc = 2)\n",
    "inf_plot = plt.ylabel(ylabel='No. of Publications')\n",
    "inf_plot = plt.title(label = 'Sum of Total Articles')\n",
    "\n",
    "plt.show(inf_plot)\n"
   ]
  },
  {
   "cell_type": "code",
   "execution_count": 12,
   "metadata": {},
   "outputs": [],
   "source": [
    "inf_plot.figure.savefig('articles_count.png')"
   ]
  }
 ],
 "metadata": {
  "kernelspec": {
   "display_name": "Python 3",
   "language": "python",
   "name": "python3"
  },
  "language_info": {
   "codemirror_mode": {
    "name": "ipython",
    "version": 3
   },
   "file_extension": ".py",
   "mimetype": "text/x-python",
   "name": "python",
   "nbconvert_exporter": "python",
   "pygments_lexer": "ipython3",
   "version": "3.7.4"
  }
 },
 "nbformat": 4,
 "nbformat_minor": 4
}
