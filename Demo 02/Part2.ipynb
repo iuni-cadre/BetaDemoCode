{
 "cells": [
  {
   "cell_type": "code",
   "execution_count": 1,
   "metadata": {},
   "outputs": [],
   "source": [
    "import os\n",
    "import json\n",
    "import xnet as xn\n",
    "import numpy as np\n",
    "from collections import Counter"
   ]
  },
  {
   "cell_type": "code",
   "execution_count": null,
   "metadata": {},
   "outputs": [],
   "source": [
    "path = \"../../packages/demo02_data_package/output_files/data/\"\n",
    "#path = \"../networks/\"\n",
    "queryID = \"774e7eb6-6ac7-4dd5-9339-531b746cb8ec\"\n",
    "graph = xn.xnet2igraph(path+\"/\"+queryID+\".xnet\")"
   ]
  },
  {
   "cell_type": "code",
   "execution_count": null,
   "metadata": {},
   "outputs": [],
   "source": [
    "# saving yearly networks\n",
    "\n",
    "windowSize = 4 #years \n",
    "minComponentSize = 20\n",
    "startYear = 1990 #\n",
    "endYear = 2018 #\n",
    "\n",
    "path = \"../Visualizer/Data/\"\n",
    "\n",
    "os.makedirs(\"../networks\", exist_ok=True)\n",
    "os.makedirs(\"../networks/tmp/\", exist_ok=True)\n",
    "\n",
    "publicationYear = np.array(graph.vs[\"year\"],dtype=np.int)\n",
    "minYear = max(np.min(publicationYear),startYear)\n",
    "maxYear = min(np.max(publicationYear),endYear)\n",
    "\n",
    "firstYear = minYear+windowSize;\n",
    "lastYear = maxYear;\n",
    "\n",
    "networksDictionary = {}\n",
    "for year in range(firstYear,lastYear+1):\n",
    "    afterWindowStart = publicationYear >= (year-windowSize)\n",
    "    beforeWindowEnd = publicationYear <= (year)\n",
    "    selectedVertices = np.where(np.logical_and(afterWindowStart,beforeWindowEnd))[0]\n",
    "    yearGraph = graph.subgraph(selectedVertices);\n",
    "    yearGraphCopy = yearGraph.copy()\n",
    "    yearGraphCopy.to_undirected() #Using Louvain, so the network needs to be undirected\n",
    "    yearGraph.vs[\"YearCommunity\"] = [str(c) for c in yearGraphCopy.community_multilevel().membership]\n",
    "    componentMembership = yearGraph.clusters(mode=\"WEAK\").membership;\n",
    "    removeComponents = set([component for component,freq in Counter(componentMembership).items() if freq<minComponentSize])\n",
    "    yearGraph.delete_vertices([index for index in range(yearGraph.vcount()) if componentMembership[index] in removeComponents])\n",
    "    filename = \"../networks/tmp/network_w%d_y%d.xnet\"%(windowSize,year);\n",
    "    xn.igraph2xnet(yearGraph,filename);\n",
    "    with open(filename,\"r\") as fd:\n",
    "        networksDictionary[year] = fd.read();\n",
    "    os.remove(filename);\n",
    "\n",
    "jupyterData = {\n",
    "    \"firstYear\": firstYear,\n",
    "    \"lastYear\": lastYear,\n",
    "    \"networks\": networksDictionary,\n",
    "    \"displayProperty\":\"original_title\",\n",
    "    \"IDProperty\":\"paper_id\",\n",
    "    \"colorProperty\":\"YearCommunity\",\n",
    "    \"networkname\": \"network_w%d\"%windowSize,\n",
    "}\n",
    "\n",
    "with open(\"./Visualizer/index_template.html\",\"r\") as fd:\n",
    "    indexHTML = fd.read().replace(\"__JUPYTERDATA__\",\"var JUPYTER_DATA = \"+json.dumps(jupyterData))\n",
    "    \n",
    "with open(\"./Visualizer/index.html\",\"w\") as fd:\n",
    "    fd.write(indexHTML)\n",
    "\n",
    "# with open(\"./Visualizer/JupyterData.js\",\"w\") as fd:\n",
    "#     fd.write(\"var JUPYTER_DATA = \")\n",
    "#     json.dump(jupyterData,fd)\n",
    "    \n",
    "from IPython.display import IFrame\n",
    "IFrame(src='./Visualizer/index.html',width=1000, height=900)"
   ]
  },
  {
   "cell_type": "code",
   "execution_count": null,
   "metadata": {},
   "outputs": [],
   "source": [
    "#Experimental\n",
    "from IPython.display import IFrame\n",
    "IFrame(src='https://filipinascimento.github.io/Network3DWeb/#InformetricsScientometrics',width=1000, height=900)"
   ]
  }
 ],
 "metadata": {
  "kernelspec": {
   "display_name": "Python 3",
   "language": "python",
   "name": "python3"
  },
  "language_info": {
   "codemirror_mode": {
    "name": "ipython",
    "version": 3
   },
   "file_extension": ".py",
   "mimetype": "text/x-python",
   "name": "python",
   "nbconvert_exporter": "python",
   "pygments_lexer": "ipython3",
   "version": "3.7.4"
  }
 },
 "nbformat": 4,
 "nbformat_minor": 4
}
